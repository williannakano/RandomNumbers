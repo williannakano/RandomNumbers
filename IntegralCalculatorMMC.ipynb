{
 "cells": [
  {
   "cell_type": "code",
   "execution_count": 1,
   "metadata": {},
   "outputs": [],
   "source": [
    "import PySimpleGUI as sg\n",
    "import sympy\n",
    "import random\n",
    "\n",
    "def calcular_integral_numerica(funcao, limite_inferior, limite_superior, num_pontos):\n",
    "    soma = 0\n",
    "    for i in range(num_pontos):\n",
    "        valor_x = random.uniform(limite_inferior, limite_superior)\n",
    "        funcao_substituida = funcao.subs(x, valor_x)\n",
    "        soma += funcao_substituida\n",
    "    media = soma / num_pontos\n",
    "    area_total = limite_superior-limite_inferior\n",
    "    resultado = media * area_total\n",
    "    return resultado\n",
    "\n",
    "# Definição da função simbólica\n",
    "x = sympy.Symbol('x')\n",
    "funcao_simbolica = x + sympy.Rational(1, 2)\n",
    "funcao_analisada = sympy.lambdify(x, funcao_simbolica, 'numpy')\n",
    "\n",
    "#Layout da interface\n",
    "layout = [\n",
    "    [sg.Text(\"Função:\"), sg.Input(key='funcao')],\n",
    "    [sg.Text(\"Limite Inferior:\"), sg.Input(key='limite_inf')],\n",
    "    [sg.Text(\"Limite Superior:\"), sg.Input(key='limite_sup')],\n",
    "    [sg.Text(\"Número de Pontos:\"), sg.Input(key='num_pontos')],\n",
    "    [sg.Button(\"Calcular\"), sg.Text(size=(50,1), key='resultado')]\n",
    "]\n",
    "\n",
    "#Criação da janela\n",
    "window = sg.Window(\"Calculadora de Integral Numérica\", layout)\n",
    "\n",
    "#Loop para execução do código\n",
    "while True:\n",
    "    event, values = window.read()\n",
    "    if event == sg.WINDOW_CLOSED:\n",
    "        break\n",
    "    if event == \"Calcular\":\n",
    "        funcao_analisada = sympy.sympify(values['funcao'])\n ",
    "        limite_inferior = float(values['limite_inf'])\n",
    "        limite_superior = float(values['limite_sup'])\n",
    "        num_pontos = int(values['num_pontos'])\n",
    "\n",
    "        integral_numerica = calcular_integral_numerica(funcao_analisada, limite_inferior, limite_superior, num_pontos)\n",
    "        window['resultado'].update(\"Resultado da integral da função {}: \".format(funcao_analisada) + str(round(integral_numerica, 5)))\n",
    "\n",
    "window.close()\n"
   ]
  }
 ],
 "metadata": {
  "kernelspec": {
   "display_name": "base",
   "language": "python",
   "name": "python3"
  },
  "language_info": {
   "codemirror_mode": {
    "name": "ipython",
    "version": 3
   },
   "file_extension": ".py",
   "mimetype": "text/x-python",
   "name": "python",
   "nbconvert_exporter": "python",
   "pygments_lexer": "ipython3",
   "version": "3.10.9"
  },
  "orig_nbformat": 4
 },
 "nbformat": 4,
 "nbformat_minor": 2
}
