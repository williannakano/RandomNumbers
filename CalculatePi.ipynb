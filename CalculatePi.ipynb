{
 "cells": [
  {
   "attachments": {},
   "cell_type": "markdown",
   "metadata": {},
   "source": [
    "Código que realiza o cálculo de Pi a partir do Método Monte Carlo (MMC)"
   ]
  },
  {
   "attachments": {},
   "cell_type": "markdown",
   "metadata": {},
   "source": [
    "A única biblioteca a ser utilizada é a \"random\""
   ]
  },
  {
   "cell_type": "code",
   "execution_count": 9,
   "metadata": {},
   "outputs": [],
   "source": [
    "import random"
   ]
  },
  {
   "attachments": {},
   "cell_type": "markdown",
   "metadata": {},
   "source": [
    "É então realizada a criação da função:"
   ]
  },
  {
   "cell_type": "code",
   "execution_count": 16,
   "metadata": {},
   "outputs": [],
   "source": [
    "#Cria função que realiza o cálculo de pi\n",
    "def funcao_CalculaPi(numPontos):\n",
    "    ContadorPontosCircunferencia = 0                           \n",
    "    for i in range(numPontos):                                  #Loop para realizar a geração de \"i\" números aleatórios\n",
    "        x = random.uniform(-1, 1)                               #Definição em que X deverá ser um número entre -1 e 1\n",
    "        y = random.uniform(-1, 1)                               #Definição em que Y deverá ser um número entre -1 e 1\n",
    "        if  x**2 + y**2 <= 1:\n",
    "            ContadorPontosCircunferencia += 1\n",
    "    ValorPi = 4 * (ContadorPontosCircunferencia / numPontos)    #Cálculo do valor de pi\n",
    "    return ValorPi\n",
    "\n",
    "def funcao_CalculaPi(numPontos):\n",
    "    pontos_x = []\n",
    "    pontos_y = []\n",
    "    ContadorPontosCircunferencia = 0                             #Iniciando o contador do Loop em \"0\"\n",
    "    for i in range(numPontos):                                   #Loop para realizar a geração de \"i\" números aleatórios\n",
    "        x = random.uniform(-1, 1)                                #Definição em que X deverá ser um número entre -1 e 1\n",
    "        y = random.uniform(-1, 1)                                #Definição em que Y deverá ser um número entre -1 e 1  \n",
    "        pontos_x.append(x)                                       #Armazenando os valores de X\n",
    "        pontos_y.append(y)                                       #Armazenando os valoresde Y\n",
    "        if x**2 + y**2 <= 1:\n",
    "            ContadorPontosCircunferencia += 1\n",
    "    ValorPi = 4 * (ContadorPontosCircunferencia / numPontos)\n",
    "    return ValorPi, pontos_x, pontos_y"
   ]
  },
  {
   "attachments": {},
   "cell_type": "markdown",
   "metadata": {},
   "source": [
    "Por fim, a utilização da função:"
   ]
  },
  {
   "cell_type": "code",
   "execution_count": 17,
   "metadata": {},
   "outputs": [
    {
     "name": "stdout",
     "output_type": "stream",
     "text": [
      "O valor de Pi para a quantia de número aleatórios selecionada é:  3.144\n"
     ]
    }
   ],
   "source": [
    "\n",
    "#Utilização da função\n",
    "Numero_Pontos = 1000 # <- alterar o número de pontos aleatórios aqui\n",
    "Valor_Pi, pontos_x, pontos_y = funcao_CalculaPi(Numero_Pontos)\n",
    "print(\"O valor de Pi para a quantia de número aleatórios selecionada é: \", Valor_Pi)"
   ]
  }
 ],
 "metadata": {
  "kernelspec": {
   "display_name": "Python 3",
   "language": "python",
   "name": "python3"
  },
  "language_info": {
   "codemirror_mode": {
    "name": "ipython",
    "version": 3
   },
   "file_extension": ".py",
   "mimetype": "text/x-python",
   "name": "python",
   "nbconvert_exporter": "python",
   "pygments_lexer": "ipython3",
   "version": "3.10.9"
  },
  "orig_nbformat": 4
 },
 "nbformat": 4,
 "nbformat_minor": 2
}
